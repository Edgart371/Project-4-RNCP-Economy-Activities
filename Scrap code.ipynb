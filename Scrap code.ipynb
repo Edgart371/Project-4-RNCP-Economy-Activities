{
 "cells": [
  {
   "cell_type": "code",
   "execution_count": null,
   "id": "ee4868b9",
   "metadata": {},
   "outputs": [],
   "source": [
    "#Place the name \"Years\" on columns name\n",
    "pa_exports.rename(columns = {np.nan:'Years'}, inplace = True)\n",
    "pa_exports"
   ]
  },
  {
   "cell_type": "code",
   "execution_count": null,
   "id": "f4b949d8",
   "metadata": {},
   "outputs": [],
   "source": [
    "len(pa_exports.columns)"
   ]
  }
 ],
 "metadata": {
  "kernelspec": {
   "display_name": "Python 3 (ipykernel)",
   "language": "python",
   "name": "python3"
  },
  "language_info": {
   "codemirror_mode": {
    "name": "ipython",
    "version": 3
   },
   "file_extension": ".py",
   "mimetype": "text/x-python",
   "name": "python",
   "nbconvert_exporter": "python",
   "pygments_lexer": "ipython3",
   "version": "3.9.7"
  }
 },
 "nbformat": 4,
 "nbformat_minor": 5
}
