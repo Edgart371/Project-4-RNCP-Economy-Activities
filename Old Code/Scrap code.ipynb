{
 "cells": [
  {
   "cell_type": "code",
   "execution_count": null,
   "id": "ee4868b9",
   "metadata": {},
   "outputs": [],
   "source": [
    "#Place the name \"Years\" on columns name\n",
    "pa_exports.rename(columns = {np.nan:'Years'}, inplace = True)\n",
    "pa_exports"
   ]
  },
  {
   "cell_type": "code",
   "execution_count": null,
   "id": "f4b949d8",
   "metadata": {},
   "outputs": [],
   "source": [
    "len(pa_exports.columns)"
   ]
  },
  {
   "cell_type": "code",
   "execution_count": null,
   "id": "61ea3612",
   "metadata": {},
   "outputs": [],
   "source": [
    "#Convert to interger and floats, because on data visualiztion verifcstion that somo tables had the data in ibjects\n",
    "#pa_production = pa_production.convert_dtypes()\n",
    "#pa_production.apply(pd.to_numeric)\n",
    "#from functools import partial\n",
    "#pa_production.apply(partial(pd.to_numeric, errors='ignore')).info()\n",
    "#pa_production.astype(str).astype(int)\n",
    "#pd.to_numeric(pa_production, errors='raise')\n",
    "#pa_production.apply(pd.to_numeric, errors='ignore')\n",
    "#pa_production = pd.to_numeric(pa_production.values.ravel(), 'coerce').reshape(-1, len(pa_production))\n",
    "#pd.to_numeric(pa_production, downcast='float')"
   ]
  },
  {
   "cell_type": "code",
   "execution_count": null,
   "id": "149ac94b",
   "metadata": {},
   "outputs": [],
   "source": [
    "ef_productivity.isna().sum()"
   ]
  },
  {
   "cell_type": "code",
   "execution_count": null,
   "id": "7c1053d7",
   "metadata": {},
   "outputs": [],
   "source": [
    "#import phik\n",
    "#ex = pa_exports.phik_matrix(['Years', 'Total', 'Col_3', 'Col_4', 'Col_5', 'Col_6', 'Col_7', 'Col_8', 'Col_9', 'Col_10', 'Col_11', 'Col_12', 'Col_13', 'Col_14', 'Col_15', 'Col_16', 'Col_17', 'Col_18', 'Col_19', 'Col_20', 'Col_21', 'Col_22', 'Col_23', 'Col_24', 'Col_25', 'Col_26', 'Col_27', 'Col_28', 'Col_29', 'Col_30', 'Col_31', 'Col_32', 'Col_33', 'Col_34', 'Col_35', 'Col_36', 'Col_37', 'Col_38', 'Col_39'])\n",
    "#plt.figure(figsize = (15,8))\n",
    "#sns.heatmap(ex)"
   ]
  },
  {
   "cell_type": "code",
   "execution_count": null,
   "id": "e8f5708d",
   "metadata": {},
   "outputs": [],
   "source": [
    "#Col_20 \"Constructions and construction works\"\n",
    "#plt.figure(figsize = (15,8))\n",
    "#ax = sns.boxplot(x=\"Years\", y=\"Col_20\", data=pa_exports)\n",
    "#ax.set_xticklabels(ax.get_xticklabels(),rotation=90)"
   ]
  },
  {
   "cell_type": "code",
   "execution_count": null,
   "id": "e67990ee",
   "metadata": {},
   "outputs": [],
   "source": [
    "#Transpose\n",
    "int_import_penetracion = int_import_penetracion.T\n",
    "\n",
    "#Rename the columns name with the values of the row index 0 \n",
    "int_import_penetracion.rename(columns=int_import_penetracion.iloc[0], inplace = True)\n",
    "int_import_penetracion\n",
    "\n",
    "int_import_penetracion = int_import_penetracion.drop(labels=['Years'], axis=0)\n",
    "int_import_penetracion = int_import_penetracion.drop(labels=['Total'], axis=0)\n",
    "\n",
    "\n",
    "cols=range(1995, 2020)\n",
    "int_import_penetracion.columns=cols"
   ]
  }
 ],
 "metadata": {
  "kernelspec": {
   "display_name": "Python 3 (ipykernel)",
   "language": "python",
   "name": "python3"
  },
  "language_info": {
   "codemirror_mode": {
    "name": "ipython",
    "version": 3
   },
   "file_extension": ".py",
   "mimetype": "text/x-python",
   "name": "python",
   "nbconvert_exporter": "python",
   "pygments_lexer": "ipython3",
   "version": "3.9.7"
  }
 },
 "nbformat": 4,
 "nbformat_minor": 5
}
